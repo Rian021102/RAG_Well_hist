{
 "cells": [
  {
   "cell_type": "code",
   "execution_count": 1,
   "metadata": {},
   "outputs": [
    {
     "name": "stdout",
     "output_type": "stream",
     "text": [
      "Choosing the \"best\" French cheese can be subjective as it depends on personal taste. France is renowned for its wide variety of cheeses, with over 400 different types. Here are a few highly regarded French cheeses across various categories:\n",
      "\n",
      "1. **Soft Cheeses:**\n",
      "   - **Brie de Meaux**: Known for its rich, creamy texture and earthy, mushroom-like flavors.\n",
      "   - **Camembert de Normandie**: A soft, creamy cheese with a strong, earthy aroma and flavor.\n",
      "\n",
      "2. **Semi-Soft Cheeses:**\n",
      "   - **Reblochon**: A nutty and fruity cheese from the Alps, often used in tartiflette, a traditional dish.\n",
      "   - **Morbier**: Recognizable by its layer of ash in the middle, it has a fruity and slightly smoky flavor.\n",
      "\n",
      "3. **Hard Cheeses:**\n",
      "   - **Comté**: A firm, nutty, and slightly sweet cheese made from unpasteurized cow's milk.\n",
      "   - **Beaufort**: Similar to Comté, it's known for its smooth, firm texture and nutty, slightly sweet flavors.\n",
      "\n",
      "4. **Blue Cheeses:**\n",
      "   - **Roquefort**: A tangy, salty sheep milk cheese with distinctive veins of blue mold.\n",
      "   - **Bleu d'Auvergne**: A cow's milk blue cheese with a strong, pungent aroma and a creamy, moist texture.\n",
      "\n",
      "5. **Goat Cheeses:**\n",
      "   - **Chèvre**: French goat cheese comes in many forms, but they generally have a tangy, earthy flavor. Some popular varieties include Crottin de Chavignol and Sainte-Maure de Touraine.\n",
      "\n",
      "Each of these cheeses has its unique characteristics, so the \"best\" one depends on your personal preferences. It's always fun to try several and decide which you like the most!\n"
     ]
    }
   ],
   "source": [
    "import os\n",
    "from mistralai import Mistral\n",
    "\n",
    "api_key = os.environ[\"MISTRAL_API_KEY\"]\n",
    "model = \"mistral-large-latest\"\n",
    "\n",
    "client = Mistral(api_key=api_key)\n",
    "\n",
    "chat_response = client.chat.complete(\n",
    "    model= model,\n",
    "    messages = [\n",
    "        {\n",
    "            \"role\": \"user\",\n",
    "            \"content\": \"What is the best French cheese?\",\n",
    "        },\n",
    "    ]\n",
    ")\n",
    "print(chat_response.choices[0].message.content)"
   ]
  }
 ],
 "metadata": {
  "kernelspec": {
   "display_name": "mlp",
   "language": "python",
   "name": "python3"
  },
  "language_info": {
   "codemirror_mode": {
    "name": "ipython",
    "version": 3
   },
   "file_extension": ".py",
   "mimetype": "text/x-python",
   "name": "python",
   "nbconvert_exporter": "python",
   "pygments_lexer": "ipython3",
   "version": "3.9.16"
  }
 },
 "nbformat": 4,
 "nbformat_minor": 2
}
