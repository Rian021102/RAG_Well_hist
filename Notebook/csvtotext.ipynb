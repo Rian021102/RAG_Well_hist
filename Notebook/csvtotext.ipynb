{
 "cells": [
  {
   "cell_type": "code",
   "execution_count": 23,
   "metadata": {},
   "outputs": [],
   "source": [
    "import pandas as pd"
   ]
  },
  {
   "cell_type": "code",
   "execution_count": 24,
   "metadata": {},
   "outputs": [
    {
     "name": "stdout",
     "output_type": "stream",
     "text": [
      "['15_919A1997', '15_919B1997', '15_919BT21997', '15_919BT21998', '15_919S1992', '15_919ST21992', '15_919ST21993', '15_919ST21997', '15_9F102009', '15_9F112013', '15_9F11A', '15_9F11B', '15_9F11T2', '15_9F12007', '15_9F12013', '15_9F122007', '15_9F122008', '15_9F122009', '15_9F122010', '15_9F122014', '15_9F122016', '15_9F142007', '15_9F142008', '15_9F142009', '15_9F142010', '15_9F142012', '15_9F142016', '15_9F152007', '15_9F152008', '15_9F15A', '15_9F15B', '15_9F15C', '15_9F15D', '15_9F1A', '15_9F1B', '15_9F1C', '15_9F42007', '15_9F42008', '15_9F42010', '15_9F42012', '15_9F42016', '15_9F52007', '15_9F52008', '15_9F52012', '15_9F52015', '15_9F52016', '15_9F72007', '15_9F72015', '15_9F72016', '15_9F92007', '15_9F92008', '15_9F92009', '15_9F9A']\n",
      "      Wellbore                                             Remark\n",
      "6205  15_9F15D                                  M/U clean-out BHA\n",
      "6206  15_9F15D   Removed master bushing and installed PS-21 slips\n",
      "6207  15_9F15D  RIH w/ clean-out BHA from 67 mMD  to 806 mMD. ...\n",
      "6208  15_9F15D  Filled pipe and staged up pumps to 3100 lpm/36...\n",
      "6209  15_9F15D               Prepared for R/U wireline equipment.\n",
      "...        ...                                                ...\n",
      "7615  15_9F15D  Correlated across interval 3545 m - 3450 m. Po...\n",
      "7616  15_9F15D  Performed 3 orientation passes from 3545 m - 3...\n",
      "7617  15_9F15D  RIH with tractor activated from 3408 m to 3560 m.\n",
      "7618  15_9F15D  Spooled out cable. Altus tractor checked BHA c...\n",
      "7619  15_9F15D  Performed 3 orientation passes from 3540 m to ...\n",
      "\n",
      "[1415 rows x 2 columns]\n"
     ]
    }
   ],
   "source": [
    "# load the data\n",
    "data=pd.read_csv('/Users/rianrachmanto/miniforge3/project/RAG_Drill_Report/data/drilling_report_comp.csv')\n",
    "df=data[['Wellbore','Remark']]\n",
    "print(df.Wellbore.unique().tolist())\n",
    "selected_wellbore=df[df.Wellbore=='15_9F15D']\n",
    "print(selected_wellbore)"
   ]
  },
  {
   "cell_type": "code",
   "execution_count": 25,
   "metadata": {},
   "outputs": [],
   "source": [
    "#remove Wellbore column\n",
    "selected_wellbore=selected_wellbore.drop(columns='Wellbore')"
   ]
  },
  {
   "cell_type": "code",
   "execution_count": 26,
   "metadata": {},
   "outputs": [],
   "source": [
    "path='/Users/rianrachmanto/miniforge3/project/RAG_Drill_Report/data/remark.txt'"
   ]
  },
  {
   "cell_type": "code",
   "execution_count": 27,
   "metadata": {},
   "outputs": [],
   "source": [
    "with open(path, 'a') as f:\n",
    "    df_string = selected_wellbore.to_string(header=False, index=False)\n",
    "    f.write(df_string)"
   ]
  }
 ],
 "metadata": {
  "kernelspec": {
   "display_name": "mlp",
   "language": "python",
   "name": "python3"
  },
  "language_info": {
   "codemirror_mode": {
    "name": "ipython",
    "version": 3
   },
   "file_extension": ".py",
   "mimetype": "text/x-python",
   "name": "python",
   "nbconvert_exporter": "python",
   "pygments_lexer": "ipython3",
   "version": "3.9.16"
  }
 },
 "nbformat": 4,
 "nbformat_minor": 2
}
